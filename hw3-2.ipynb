{
 "cells": [
  {
   "cell_type": "markdown",
   "metadata": {},
   "source": [
    "# HW3-2 - Travel Review Ratings \n",
    "\n",
    "作業檔案：\n",
    "- hw3-2.ipynb\n",
    "\n",
    "資料：\n",
    "https://archive.ics.uci.edu/ml/datasets/Tarvel+Review+Ratings\n",
    "\n",
    "- google_review_ratings.csv\n",
    "\n",
    "參考網站：有\n",
    "- https://www.kaggle.com/ishbhms/travel-rating-reviews-analysis"
   ]
  },
  {
   "cell_type": "markdown",
   "metadata": {},
   "source": [
    "## 環境\n",
    "\n",
    "請填寫當前執行使用的環境。\n",
    "\n",
    "|環境|名稱|版本|\n",
    "|-|-|-|\n",
    "|作業系統|Ubuntu|18.04 LTS|\n",
    "|程式執行環境|jupyter notebook|1.0.0|\n",
    "|python 版本|python3|3.6.9|\n",
    "|安裝環境|pip|20.1|"
   ]
  },
  {
   "cell_type": "markdown",
   "metadata": {},
   "source": [
    "## 安裝\n",
    "\n",
    "請填寫安裝套件需要的指令\n",
    "\n",
    "```sh\n",
    "pip install -r requirements.txt\n",
    "```"
   ]
  },
  {
   "cell_type": "markdown",
   "metadata": {},
   "source": [
    "## 計算資源\n",
    "\n",
    "請填寫執行程式所需要的計算資源，請確保所有資源限制在單一個人桌上型電腦且能夠以總市價低於 5 萬的手段取得。\n",
    "\n",
    "|計算資源|答案|\n",
    "|-|-|\n",
    "|使用 CPU 核心數|6|\n",
    "|記憶體需求|$\\leq 4$GB|\n",
    "|有無使用 GPU|無|\n",
    "|GPU 版本|無|\n",
    "|GPU 記憶體需求|$\\leq 1$GB|"
   ]
  },
  {
   "cell_type": "markdown",
   "metadata": {},
   "source": [
    "## 觀察資料型態與分佈\n",
    "\n",
    "首先快速檢視資料的特徵，共有25個欄位：\n",
    "\n",
    "- User\n",
    "- Category 1 ~ 24\n",
    "\n",
    "User欄位即為每筆資料的id，Category 1 ~ 24為該使用者對各個種類景點的評分，數值範圍1 ~ 5，0則代表未評分。"
   ]
  },
  {
   "cell_type": "code",
   "execution_count": 138,
   "metadata": {},
   "outputs": [
    {
     "name": "stdout",
     "output_type": "stream",
     "text": [
      "<class 'pandas.core.frame.DataFrame'>\n",
      "RangeIndex: 5456 entries, 0 to 5455\n",
      "Data columns (total 26 columns):\n",
      " #   Column       Non-Null Count  Dtype  \n",
      "---  ------       --------------  -----  \n",
      " 0   User         5456 non-null   object \n",
      " 1   Category 1   5456 non-null   float64\n",
      " 2   Category 2   5456 non-null   float64\n",
      " 3   Category 3   5456 non-null   float64\n",
      " 4   Category 4   5456 non-null   float64\n",
      " 5   Category 5   5456 non-null   float64\n",
      " 6   Category 6   5456 non-null   float64\n",
      " 7   Category 7   5456 non-null   float64\n",
      " 8   Category 8   5456 non-null   float64\n",
      " 9   Category 9   5456 non-null   float64\n",
      " 10  Category 10  5456 non-null   float64\n",
      " 11  Category 11  5456 non-null   object \n",
      " 12  Category 12  5455 non-null   float64\n",
      " 13  Category 13  5456 non-null   float64\n",
      " 14  Category 14  5456 non-null   float64\n",
      " 15  Category 15  5456 non-null   float64\n",
      " 16  Category 16  5456 non-null   float64\n",
      " 17  Category 17  5456 non-null   float64\n",
      " 18  Category 18  5456 non-null   float64\n",
      " 19  Category 19  5456 non-null   float64\n",
      " 20  Category 20  5456 non-null   float64\n",
      " 21  Category 21  5456 non-null   float64\n",
      " 22  Category 22  5456 non-null   float64\n",
      " 23  Category 23  5456 non-null   float64\n",
      " 24  Category 24  5455 non-null   float64\n",
      " 25  Unnamed: 25  2 non-null      float64\n",
      "dtypes: float64(24), object(2)\n",
      "memory usage: 1.1+ MB\n",
      "None\n"
     ]
    }
   ],
   "source": [
    "# Read data\n",
    "\n",
    "import pandas as pd\n",
    "import numpy as np\n",
    "import matplotlib.pyplot as plt\n",
    "import seaborn as sns\n",
    "\n",
    "data_path = './google_review_ratings.csv'\n",
    "\n",
    "df = pd.read_csv(data_path)\n",
    "\n",
    "print(df.info())"
   ]
  },
  {
   "cell_type": "markdown",
   "metadata": {},
   "source": [
    "發現存在奇怪的欄位(第25欄)，以及Category 11資料型態跟其他人不同，檢查後發現似乎是有資料填壞的情形，因為填壞的資料僅2筆，故決定直接刪除。另外為了方便辨認，將原本的Category 1 ~ 24重新命名成它原本的名字。"
   ]
  },
  {
   "cell_type": "code",
   "execution_count": 139,
   "metadata": {},
   "outputs": [
    {
     "name": "stdout",
     "output_type": "stream",
     "text": [
      "<class 'pandas.core.frame.DataFrame'>\n",
      "Int64Index: 5454 entries, 0 to 5455\n",
      "Data columns (total 25 columns):\n",
      " #   Column                 Non-Null Count  Dtype  \n",
      "---  ------                 --------------  -----  \n",
      " 0   user                   5454 non-null   object \n",
      " 1   churches               5454 non-null   float64\n",
      " 2   resorts                5454 non-null   float64\n",
      " 3   beaches                5454 non-null   float64\n",
      " 4   parks                  5454 non-null   float64\n",
      " 5   theatres               5454 non-null   float64\n",
      " 6   museums                5454 non-null   float64\n",
      " 7   malls                  5454 non-null   float64\n",
      " 8   zoo                    5454 non-null   float64\n",
      " 9   restaurants            5454 non-null   float64\n",
      " 10  pubs_bars              5454 non-null   float64\n",
      " 11  local_services         5454 non-null   float64\n",
      " 12  burger_pizza_shops     5454 non-null   float64\n",
      " 13  hotels_other_lodgings  5454 non-null   float64\n",
      " 14  juice_bars             5454 non-null   float64\n",
      " 15  art_galleries          5454 non-null   float64\n",
      " 16  dance_clubs            5454 non-null   float64\n",
      " 17  swimming_pools         5454 non-null   float64\n",
      " 18  gyms                   5454 non-null   float64\n",
      " 19  bakeries               5454 non-null   float64\n",
      " 20  beauty_spas            5454 non-null   float64\n",
      " 21  cafes                  5454 non-null   float64\n",
      " 22  view_points            5454 non-null   float64\n",
      " 23  monuments              5454 non-null   float64\n",
      " 24  gardens                5454 non-null   float64\n",
      "dtypes: float64(24), object(1)\n",
      "memory usage: 1.1+ MB\n",
      "None\n"
     ]
    }
   ],
   "source": [
    "df = df[df.iloc[:, 25].isna() == True]\n",
    "df = df.drop(df.columns[25], axis=1)\n",
    "df['Category 11'] = pd.to_numeric(df['Category 11'])\n",
    "column_names = ['user', 'churches', 'resorts', 'beaches', 'parks', 'theatres', 'museums', 'malls', 'zoo', 'restaurants', 'pubs_bars', 'local_services', 'burger_pizza_shops', 'hotels_other_lodgings', 'juice_bars', 'art_galleries', 'dance_clubs', 'swimming_pools', 'gyms', 'bakeries', 'beauty_spas', 'cafes', 'view_points', 'monuments', 'gardens']\n",
    "df.columns = column_names\n",
    "print(df.info())"
   ]
  },
  {
   "cell_type": "markdown",
   "metadata": {},
   "source": [
    "看看有哪些欄位是使用者不太會給評分的，結果發現麵包店、健身房、美容spa是倒數前三名。"
   ]
  },
  {
   "cell_type": "code",
   "execution_count": 140,
   "metadata": {},
   "outputs": [
    {
     "data": {
      "text/plain": [
       "Text(0.5, 1.0, 'Number of reviews under each category')"
      ]
     },
     "execution_count": 140,
     "metadata": {},
     "output_type": "execute_result"
    },
    {
     "data": {
      "image/png": "[encoded data removed]",
      "text/plain": [
       "<Figure size 864x504 with 1 Axes>"
      ]
     },
     "metadata": {
      "needs_background": "light"
     },
     "output_type": "display_data"
    }
   ],
   "source": [
    "num_zeros = df[column_names[1:]].astype(bool).sum(axis=0).sort_values()\n",
    "\n",
    "plt.figure(figsize=(12,7))\n",
    "plt.barh(np.arange(len(column_names[1:])), num_zeros.values, align='center', alpha=0.7)\n",
    "plt.yticks(np.arange(len(column_names[1:])), num_zeros.index)\n",
    "plt.xlabel('Number of reviews')\n",
    "plt.title('Number of reviews under each category')"
   ]
  },
  {
   "cell_type": "markdown",
   "metadata": {},
   "source": [
    "再來看看各欄位的平均評分，結果發現商場、餐廳、戲院為最高前三名；健身房、游泳池、咖啡館為倒數前三名。"
   ]
  },
  {
   "cell_type": "code",
   "execution_count": 141,
   "metadata": {},
   "outputs": [
    {
     "data": {
      "text/plain": [
       "Text(0.5, 1.0, 'Average rating per Category')"
      ]
     },
     "execution_count": 141,
     "metadata": {},
     "output_type": "execute_result"
    },
    {
     "data": {
      "image/png": "[encoded data removed]",
      "text/plain": [
       "<Figure size 864x504 with 1 Axes>"
      ]
     },
     "metadata": {
      "needs_background": "light"
     },
     "output_type": "display_data"
    }
   ],
   "source": [
    "avg_rating = df[column_names[1:]].mean()\n",
    "avg_rating = avg_rating.sort_values()\n",
    "plt.figure(figsize=(12,7))\n",
    "plt.barh(np.arange(len(column_names[1:])), avg_rating.values, align='center', alpha=0.7)\n",
    "plt.yticks(np.arange(len(column_names[1:])), avg_rating.index)\n",
    "plt.xlabel('Average Rating')\n",
    "plt.title('Average rating per Category')"
   ]
  },
  {
   "cell_type": "markdown",
   "metadata": {},
   "source": [
    "檢視各欄位間的相關性，各欄資料間的相關性不算高，但仍可以發現，鄰近類別的相關性（如類別9與10）的相關性高，以及類別1與24的相關性也偏高。"
   ]
  },
  {
   "cell_type": "code",
   "execution_count": 142,
   "metadata": {},
   "outputs": [
    {
     "data": {
      "text/plain": [
       "<matplotlib.axes._subplots.AxesSubplot at 0x7f3202310c88>"
      ]
     },
     "execution_count": 142,
     "metadata": {},
     "output_type": "execute_result"
    },
    {
     "data": {
      "image/png": "[encoded data removed]",
      "text/plain": [
       "<Figure size 432x288 with 2 Axes>"
      ]
     },
     "metadata": {
      "needs_background": "light"
     },
     "output_type": "display_data"
    }
   ],
   "source": [
    "sns.heatmap(df[1:].corr())"
   ]
  },
  {
   "cell_type": "markdown",
   "metadata": {},
   "source": [
    "## 問題設定\n",
    "\n"
   ]
  },
  {
   "cell_type": "code",
   "execution_count": 165,
   "metadata": {},
   "outputs": [],
   "source": [
    "ratings_per_category_df = pd.DataFrame(df[column_names[1:]].mean()).reset_index(level=0)\n",
    "ratings_per_category_df.columns = ['category', 'avg_rating']\n",
    "ratings_per_category_df['no_of_ratings'] = df[column_names[1:]].astype(bool).sum(axis=0).values.tolist()\n",
    "from sklearn.preprocessing import MinMaxScaler\n",
    "scaler = MinMaxScaler()\n",
    "ratings_per_category_df['avg_rating_scaled'] = scaler.fit_transform(ratings_per_category_df['avg_rating'].values.reshape(-1,1))\n",
    "ratings_per_category_df['no_of_ratings_scaled'] = scaler.fit_transform(ratings_per_category_df['no_of_ratings'].values.reshape(-1,1))\n",
    "def calculate_weighted_rating(x):\n",
    "    return (x['avg_rating_scaled'] * x['no_of_ratings_scaled'])\n",
    "\n",
    "ratings_per_category_df['weighted_rating'] = ratings_per_category_df.apply(calculate_weighted_rating, axis = 1)\n",
    "ratings_per_category_df = ratings_per_category_df.sort_values(by=['weighted_rating'], ascending = False)\n",
    "\n",
    "def get_recommendation_based_on_popularity(x):\n",
    "    zero_cols = df[df['user'] == x['user']][column_names[1:]].astype(bool).sum(axis=0)\n",
    "    zero_df = pd.DataFrame(zero_cols[zero_cols == 0]).reset_index(level = 0)\n",
    "    zero_df.columns = ['category', 'rating']\n",
    "    zero_df = pd.merge(zero_df, ratings_per_category_df, on = 'category', how = 'left')[['category', 'weighted_rating']]\n",
    "    zero_df = zero_df.sort_values(by = ['weighted_rating'], ascending = False)\n",
    "    if len(zero_df) > 0:\n",
    "        return zero_df['category'].values[0]\n",
    "    else:\n",
    "        return \"\"\n",
    "df_recommendation = df.copy()\n",
    "df_recommendation['recommendation_based_on_popularity'] = df_recommendation.apply(get_recommendation_based_on_popularity, axis = 1)\n"
   ]
  },
  {
   "cell_type": "code",
   "execution_count": 176,
   "metadata": {},
   "outputs": [
    {
     "data": {
      "text/plain": [
       "96    \n",
       "Name: recommendation_based_on_popularity, dtype: object"
      ]
     },
     "execution_count": 176,
     "metadata": {},
     "output_type": "execute_result"
    }
   ],
   "source": [
    "df_recommendation['recommendation_based_on_popularity'][df['user'] == 'User 97']\n"
   ]
  },
  {
   "cell_type": "code",
   "execution_count": 78,
   "metadata": {},
   "outputs": [
    {
     "ename": "NameError",
     "evalue": "name 'train_df' is not defined",
     "output_type": "error",
     "traceback": [
      "\u001b[0;31m---------------------------------------------------------------------------\u001b[0m",
      "\u001b[0;31mNameError\u001b[0m                                 Traceback (most recent call last)",
      "\u001b[0;32m<ipython-input-78-c96e9de9d5dd>\u001b[0m in \u001b[0;36m<module>\u001b[0;34m\u001b[0m\n\u001b[1;32m      1\u001b[0m \u001b[0;31m# Add the column `Tomorrow Movement` by comparing the `Close Price` with the previous days as the training target\u001b[0m\u001b[0;34m\u001b[0m\u001b[0;34m\u001b[0m\u001b[0;34m\u001b[0m\u001b[0m\n\u001b[1;32m      2\u001b[0m \u001b[0;34m\u001b[0m\u001b[0m\n\u001b[0;32m----> 3\u001b[0;31m \u001b[0mtrain_df\u001b[0m\u001b[0;34m[\u001b[0m\u001b[0;34m'Tomorrow Movement'\u001b[0m\u001b[0;34m]\u001b[0m \u001b[0;34m=\u001b[0m \u001b[0mnp\u001b[0m\u001b[0;34m.\u001b[0m\u001b[0mwhere\u001b[0m\u001b[0;34m(\u001b[0m\u001b[0mtrain_df\u001b[0m\u001b[0;34m[\u001b[0m\u001b[0;34m'Close Price'\u001b[0m\u001b[0;34m]\u001b[0m\u001b[0;34m.\u001b[0m\u001b[0mdiff\u001b[0m\u001b[0;34m(\u001b[0m\u001b[0;34m)\u001b[0m \u001b[0;34m>=\u001b[0m \u001b[0;36m0\u001b[0m\u001b[0;34m,\u001b[0m \u001b[0;36m1\u001b[0m\u001b[0;34m,\u001b[0m \u001b[0;36m0\u001b[0m\u001b[0;34m)\u001b[0m\u001b[0;34m\u001b[0m\u001b[0;34m\u001b[0m\u001b[0m\n\u001b[0m\u001b[1;32m      4\u001b[0m \u001b[0mtest_df\u001b[0m\u001b[0;34m[\u001b[0m\u001b[0;34m'Tomorrow Movement'\u001b[0m\u001b[0;34m]\u001b[0m \u001b[0;34m=\u001b[0m \u001b[0mnp\u001b[0m\u001b[0;34m.\u001b[0m\u001b[0mwhere\u001b[0m\u001b[0;34m(\u001b[0m\u001b[0mtest_df\u001b[0m\u001b[0;34m[\u001b[0m\u001b[0;34m'Close Price'\u001b[0m\u001b[0;34m]\u001b[0m\u001b[0;34m.\u001b[0m\u001b[0mdiff\u001b[0m\u001b[0;34m(\u001b[0m\u001b[0;34m)\u001b[0m \u001b[0;34m>=\u001b[0m \u001b[0;36m0\u001b[0m\u001b[0;34m,\u001b[0m \u001b[0;36m1\u001b[0m\u001b[0;34m,\u001b[0m \u001b[0;36m0\u001b[0m\u001b[0;34m)\u001b[0m\u001b[0;34m\u001b[0m\u001b[0;34m\u001b[0m\u001b[0m\n\u001b[1;32m      5\u001b[0m \u001b[0;34m\u001b[0m\u001b[0m\n",
      "\u001b[0;31mNameError\u001b[0m: name 'train_df' is not defined"
     ]
    }
   ],
   "source": [
    "# Add the column `Tomorrow Movement` by comparing the `Close Price` with the previous days as the training target\n",
    "\n",
    "train_df['Tomorrow Movement'] = np.where(train_df['Close Price'].diff() >= 0, 1, 0)\n",
    "test_df['Tomorrow Movement'] = np.where(test_df['Close Price'].diff() >= 0, 1, 0)\n",
    "\n",
    "train_df['Tomorrow Movement'] = train_df['Tomorrow Movement'].shift(-1)\n",
    "test_df['Tomorrow Movement'] = test_df['Tomorrow Movement'].shift(-1)\n",
    "\n",
    "train_df.drop(train_df.tail(1).index,inplace=True)\n",
    "test_df.drop(test_df.tail(1).index,inplace=True)\n",
    "\n",
    "print(train_df.head())\n",
    "print(train_df.tail())"
   ]
  },
  {
   "cell_type": "markdown",
   "metadata": {},
   "source": [
    "將標籤與特徵資料分離。"
   ]
  },
  {
   "cell_type": "code",
   "execution_count": null,
   "metadata": {},
   "outputs": [],
   "source": [
    "# Divide x and y data\n",
    "\n",
    "train_x_df = train_df.drop(columns=['Tomorrow Movement'])\n",
    "train_y_df = train_df['Tomorrow Movement']\n",
    "\n",
    "test_x_df = test_df.drop(columns=['Tomorrow Movement'])\n",
    "test_y_df = test_df['Tomorrow Movement']\n",
    "\n",
    "print(train_x_df.shape)\n",
    "print(train_x_df.head())\n",
    "print(train_y_df.shape)\n",
    "print(train_y_df.head())\n",
    "print('-----')\n",
    "print(test_x_df.shape)\n",
    "print(test_x_df.head())\n",
    "print(test_y_df.shape)\n",
    "print(test_y_df.head())"
   ]
  },
  {
   "cell_type": "markdown",
   "metadata": {},
   "source": [
    "捨棄有NaN的欄位。"
   ]
  },
  {
   "cell_type": "code",
   "execution_count": null,
   "metadata": {},
   "outputs": [],
   "source": [
    "# Drop rows with NaN values\n",
    "\n",
    "train_df = train_df.dropna()\n",
    "test_df = test_df.dropna()\n",
    "\n",
    "print(train_df.shape)"
   ]
  },
  {
   "cell_type": "markdown",
   "metadata": {},
   "source": [
    "### 時間序列的處理\n",
    "\n",
    "股票為時間序列資料，可以分解成幾種元素：\n",
    "- T(t)： Trend component，代表整題資料的走勢\n",
    "- S(t)： Seasonal component，代表資料在固定時間週期內的循環訊號，通常以日、週、月、季\n",
    "- C(t)： Cyclic component，代表長時間的循環訊號，但無固定週期或者週期很長，這裡會把此元素併入S(t)\n",
    "- I(t)： Irregular component，無法以上面的元素表示的訊號，即雜訊\n",
    "\n",
    "整體資料y(t)可以用上述元素的兩種形式來組成\n",
    "1. 加法形式 $ y(t) = T(t) + S(t) + I(t) $\n",
    "1. 乘法形式 $ y(t) = T(t) * S(t) * I(t) $\n",
    "\n",
    "經實驗後發現，這裡要處理的資料用乘法形式來表現成果較佳，所有欄位的時間序列分解如下面所示。可以發現訓練資料的trend元素是往上走的，且數值範圍與其他元素相差過大，經實驗發現如果不把此因素去除，機器學習時受trend影響過大，會直接把預測結果猜為全部上漲（即預測結果全為1），因此這裡依照乘法形式把trend元素從資料中移除，資料剩下$ y(t) = S(t) * I(t) $，只由Seasonal與Irregular來主宰。\n",
    "\n",
    "另外在實驗時發現，季節性元素的週期不宜設定過大，這裡將`period`設為3，表示某天的資料僅會受過去3天的資料影響，換句話說，上星期、上個月、甚至去年的資料跟當天的資料幾乎沒有關聯。"
   ]
  },
  {
   "cell_type": "code",
   "execution_count": null,
   "metadata": {},
   "outputs": [],
   "source": [
    "from statsmodels.tsa.seasonal import seasonal_decompose\n",
    "for key in train_x_df.keys():\n",
    "    timeseries = seasonal_decompose(train_x_df[key], model='multiplicative', period=3)\n",
    "    timeseries.trend.fillna(method='bfill', inplace=True)\n",
    "    timeseries.trend.fillna(method='ffill', inplace=True)\n",
    "    train_x_df[key] = train_x_df[key] / timeseries.trend\n",
    "    timeseries.plot()\n",
    "    plt.show()\n",
    "    "
   ]
  },
  {
   "cell_type": "markdown",
   "metadata": {},
   "source": [
    "測試資料也同訓練資料做一樣的處理，處理完後的資料概覽如下。"
   ]
  },
  {
   "cell_type": "code",
   "execution_count": null,
   "metadata": {},
   "outputs": [],
   "source": [
    "for key in test_x_df.keys():\n",
    "    timeseries = seasonal_decompose(test_x_df[key], model='multiplicative', period=3)\n",
    "    timeseries.trend.fillna(method='bfill', inplace=True)\n",
    "    timeseries.trend.fillna(method='ffill', inplace=True)\n",
    "    test_x_df[key] = test_x_df[key] / timeseries.trend\n",
    "    #timeseries.plot()\n",
    "    #plt.show()\n",
    "    "
   ]
  },
  {
   "cell_type": "code",
   "execution_count": null,
   "metadata": {},
   "outputs": [],
   "source": [
    "print('-------- Training Data --------')\n",
    "print(train_x_df.describe())\n",
    "print('\\n-------- Testing Data --------')\n",
    "print(test_x_df.describe())"
   ]
  },
  {
   "cell_type": "markdown",
   "metadata": {},
   "source": [
    "### 資料正規化\n",
    "\n",
    "將資料約範圍轉換到[0,1]，並且平均值為0。"
   ]
  },
  {
   "cell_type": "code",
   "execution_count": null,
   "metadata": {},
   "outputs": [],
   "source": [
    "# Normalize data\n",
    "\n",
    "from sklearn.preprocessing import StandardScaler\n",
    "\n",
    "scaler = StandardScaler()\n",
    "scaler.fit(train_x_df)\n",
    "\n",
    "normalized_train_x_df = scaler.transform(train_x_df)\n",
    "normalized_train_x_df = np.transpose(normalized_train_x_df)\n",
    "\n",
    "normalized_train_x_df = pd.DataFrame({\n",
    "    'Open Price': normalized_train_x_df[0],\n",
    "    'Close Price': normalized_train_x_df[1],\n",
    "    'High Price': normalized_train_x_df[2],\n",
    "    'Low Price': normalized_train_x_df[3],\n",
    "    'Volume': normalized_train_x_df[4],\n",
    "})\n",
    "\n",
    "normalized_test_x_df = scaler.transform(test_x_df)\n",
    "normalized_test_x_df = np.transpose(normalized_test_x_df)\n",
    "normalized_test_x_df = pd.DataFrame({\n",
    "    'Open Price': normalized_test_x_df[0],\n",
    "    'Close Price': normalized_test_x_df[1],\n",
    "    'High Price': normalized_test_x_df[2],\n",
    "    'Low Price': normalized_test_x_df[3],\n",
    "    'Volume': normalized_test_x_df[4],\n",
    "})\n",
    "\n",
    "print('-------- Training Data Quick View --------')\n",
    "print(normalized_train_x_df.head())\n",
    "print('\\n-------- Training Labels --------')\n",
    "print(train_y_df.head())"
   ]
  },
  {
   "cell_type": "markdown",
   "metadata": {},
   "source": [
    "## Logistic Regression\n",
    "\n",
    "利用Logistic Regression來做二元分類器，訓練與測試結果精度達0.79左右，算是不錯。"
   ]
  },
  {
   "cell_type": "code",
   "execution_count": null,
   "metadata": {},
   "outputs": [],
   "source": [
    "# Train & Predict using Logistic Regression\n",
    "\n",
    "from sklearn.linear_model import LogisticRegression\n",
    "from sklearn.metrics import accuracy_score\n",
    "\n",
    "lr_model =  LogisticRegression(random_state=0, solver='liblinear')\n",
    "lr_model.fit(normalized_train_x_df, train_y_df)\n",
    "\n",
    "lr_training_acc = lr_model.score(normalized_train_x_df, train_y_df)\n",
    "print('training accuracy: {}'.format(lr_training_acc))\n",
    "\n",
    "lr_predict_test_result = lr_model.predict(normalized_test_x_df)\n",
    "lr_testing_acc = lr_model.score(normalized_test_x_df, test_y_df)\n",
    "print('testing accuracy: {}'.format(lr_testing_acc))\n",
    "\n",
    "print('\\npredicted testing labels:')\n",
    "print(lr_predict_test_result)"
   ]
  },
  {
   "cell_type": "markdown",
   "metadata": {},
   "source": [
    "### 分類結果評估"
   ]
  },
  {
   "cell_type": "code",
   "execution_count": null,
   "metadata": {},
   "outputs": [],
   "source": [
    "# Print precision, recall, fbeta-score and confusion matrix\n",
    "\n",
    "from sklearn.metrics import precision_recall_fscore_support\n",
    "from sklearn.metrics import confusion_matrix\n",
    "\n",
    "print('precision, recall, fbeta-score:')\n",
    "print(precision_recall_fscore_support(test_y_df, lr_predict_test_result, average='weighted'))\n",
    "print('\\nconfusion matrix(tn, fp, fn, tp):')\n",
    "tn, fp, fn, tp = confusion_matrix(test_y_df, lr_predict_test_result).ravel()\n",
    "print((tn, fp, fn, tp))"
   ]
  },
  {
   "cell_type": "markdown",
   "metadata": {},
   "source": [
    "## SVM\n",
    "\n",
    "利用SVM來做二元分類器，訓練與測試結果精度達0.79左右，算是不錯。"
   ]
  },
  {
   "cell_type": "code",
   "execution_count": null,
   "metadata": {},
   "outputs": [],
   "source": [
    "# Train & Predict with SVC\n",
    "\n",
    "from sklearn.svm import SVC\n",
    "\n",
    "svc_model = SVC(C=1, kernel='linear', probability=True)\n",
    "svc_model.fit(normalized_train_x_df, train_y_df)\n",
    "\n",
    "svc_training_acc = svc_model.score(normalized_train_x_df, train_y_df)\n",
    "print('training accuracy: {}'.format(svc_training_acc))\n",
    "\n",
    "svc_predict_test_result = svc_model.predict(normalized_test_x_df)\n",
    "svc_testing_acc = svc_model.score(normalized_test_x_df, test_y_df)\n",
    "print('testing accuracy: {}'.format(svc_testing_acc))\n",
    "\n",
    "print('\\npredicted testing labels:')\n",
    "print(svc_predict_test_result)"
   ]
  },
  {
   "cell_type": "markdown",
   "metadata": {},
   "source": [
    "### 分類結果評估"
   ]
  },
  {
   "cell_type": "code",
   "execution_count": null,
   "metadata": {},
   "outputs": [],
   "source": [
    "# Print precision, recall, fbeta-score and confusion matrix\n",
    "\n",
    "print('precision, recall, fbeta-score:')\n",
    "print(precision_recall_fscore_support(test_y_df, svc_predict_test_result, average='weighted'))\n",
    "print('\\nconfusion matrix(tn, fp, fn, tp):')\n",
    "tn, fp, fn, tp = confusion_matrix(test_y_df, svc_predict_test_result).ravel()\n",
    "print((tn, fp, fn, tp))"
   ]
  },
  {
   "cell_type": "markdown",
   "metadata": {},
   "source": [
    "## Neural Network\n",
    "\n",
    "製作類神經網路模型前，需要先將Label轉換為One-hot encoding的形式。"
   ]
  },
  {
   "cell_type": "code",
   "execution_count": null,
   "metadata": {},
   "outputs": [],
   "source": [
    "# Define NN output groundtruth\n",
    "\n",
    "falling_prob = pd.DataFrame(data=np.where(train_y_df == 0, 1, 0)[:])\n",
    "train_y_df = pd.DataFrame(data=np.where(train_y_df == 0, 0, 1)[:])\n",
    "train_y_df = pd.concat( [ falling_prob, train_y_df ], axis=1, ignore_index=True )\n",
    "\n",
    "falling_prob = pd.DataFrame(data=np.where(test_y_df == 0, 1, 0)[:])\n",
    "test_y_df = pd.DataFrame(data=np.where(test_y_df == 0, 0, 1)[:])\n",
    "test_y_df = pd.concat( [ falling_prob, test_y_df ], axis=1, ignore_index=True )\n",
    "\n",
    "print('-------- Training Labels --------')\n",
    "print(train_y_df.shape)\n",
    "print(train_y_df.head())"
   ]
  },
  {
   "cell_type": "markdown",
   "metadata": {},
   "source": [
    "NN結構如下：\n",
    "\n",
    "類型|大小|激發函數\n",
    "---|---|---\n",
    "Linear|(5, 100)|ReLU\n",
    "Linear|(100, 2)|Softmax\n",
    "\n",
    "超參數資訊如下：\n",
    "- Batch size： 100\n",
    "- Optimizer： AdaGrad\n",
    "- Loss function： BCEWithLogitsLoss (Cross Entropy的變形)\n",
    "\n",
    "經實驗，batch size若太大精度會不高，太小則會拉長訓練時間但精度不會提升太多；Optimizer選用AdaGrad則是藉可變動的learning rate來提升初期訓練速度，但在後期又可以收斂；Loss function因為是二元分類問題，因此選用固定班底的Cross Entropy。"
   ]
  },
  {
   "cell_type": "code",
   "execution_count": null,
   "metadata": {},
   "outputs": [],
   "source": [
    "# Define NN structure\n",
    "\n",
    "import torch\n",
    "import torch.nn.functional as F\n",
    "from torch.utils.data import TensorDataset\n",
    "from torch.utils.data import DataLoader\n",
    "\n",
    "class M_NN(torch.nn.Module):\n",
    "    def __init__(self, D_in, H, D_out):\n",
    "        super(M_NN, self).__init__()\n",
    "        self.linear1 = torch.nn.Linear(D_in, H)\n",
    "        self.linear2 = torch.nn.Linear(H, D_out)\n",
    "        self.softmax = torch.nn.Softmax(1)\n",
    "\n",
    "    def forward(self, x):\n",
    "        h = self.linear1(x)\n",
    "        acti_out = F.relu(h)\n",
    "        acti_out = self.linear2(h)\n",
    "        y_pred = self.softmax(acti_out)\n",
    "        return y_pred\n",
    "\n",
    "\n",
    "# N = batch size, D_in = input size, H = hidden size, D_out = output size\n",
    "N, D_in, H, D_out = 100, 5, 100, 2  # !--- You can modify here ---!\n",
    "\n",
    "# create tensor\n",
    "train = torch.tensor(normalized_train_x_df.values.astype(np.float32))\n",
    "train_target = torch.tensor(train_y_df.values.astype(np.float32)) \n",
    "train_tensor = TensorDataset(train, train_target) \n",
    "train_loader = DataLoader(train_tensor, batch_size = N, shuffle = True)\n",
    "\n",
    "model = M_NN(D_in, H, D_out)\n",
    "criterion = torch.nn.BCEWithLogitsLoss() # !--- You can modify here ---!\n",
    "optimizer = torch.optim.Adagrad(model.parameters(), initial_accumulator_value=0.1)\n",
    " # !--- You can modify here ---!\n",
    "\n",
    "\n",
    "# Train NN\n",
    "# !--- You can modify here ---!\n",
    "\n",
    "for t in range(1001):\n",
    "    for batch_x, batch_y in train_loader: \n",
    "        y_pred = model(batch_x)\n",
    "        loss = criterion(y_pred, batch_y)\n",
    "        \n",
    "        optimizer.zero_grad()\n",
    "        loss.backward()\n",
    "        optimizer.step()\n",
    "        \n",
    "    if (t%100 == 0):\n",
    "        print('epoch: %d - loss: %.10f' % (t, loss.item()))"
   ]
  },
  {
   "cell_type": "markdown",
   "metadata": {},
   "source": [
    "訓練與測試結果精度達0.79左右，算是不錯。"
   ]
  },
  {
   "cell_type": "code",
   "execution_count": null,
   "metadata": {},
   "outputs": [],
   "source": [
    "# Predict\n",
    "\n",
    "nn_predict_train_y = model(train)\n",
    "result_train = np.where(nn_predict_train_y[:, 0] > nn_predict_train_y[:, 1], 1, 0) # !-- You can modify here --!\n",
    "print('training accuracy:')\n",
    "print(accuracy_score(train_y_df[0], result_train))\n",
    "\n",
    "nn_predict_test_y = model(torch.tensor(normalized_test_x_df.values.astype(np.float32)))\n",
    "result_test = np.where(nn_predict_test_y[:, 0] > nn_predict_test_y[:, 1], 1, 0) # !-- You can modify here --!\n",
    "print('\\ntesting accuracy:')\n",
    "print(accuracy_score(test_y_df[0], result_test))\n",
    "\n",
    "print('\\npredicted testing prob:')\n",
    "print(nn_predict_test_y[:5,:])\n",
    "print('\\npredicted testing labels:')\n",
    "print(result_test)"
   ]
  },
  {
   "cell_type": "markdown",
   "metadata": {},
   "source": [
    "### 分類結果評估"
   ]
  },
  {
   "cell_type": "code",
   "execution_count": null,
   "metadata": {},
   "outputs": [],
   "source": [
    "# Print precision, recall, fbeta-score and confusion matrix\n",
    "\n",
    "print('\\nprecision, recall, fbeta-score:')\n",
    "print(precision_recall_fscore_support(test_y_df[0], result_test, average='weighted'))\n",
    "print('\\nconfusion matrix(tn, fp, fn, tp):')\n",
    "tn, fp, fn, tp = confusion_matrix(test_y_df[0], result_test).ravel()\n",
    "print((tn, fp, fn, tp))"
   ]
  },
  {
   "cell_type": "markdown",
   "metadata": {},
   "source": [
    "# Discussion"
   ]
  },
  {
   "cell_type": "markdown",
   "metadata": {},
   "source": [
    "總結上述3種分類方法評估結果如下：\n",
    "\n",
    "|分類方法|Precision|Recall|F-beta Score|\n",
    "|:---:|---:|---:|---:|\n",
    "|Logistic|0.7928|0.7928|0.7926|\n",
    "|SVM|0.7930|0.7928|0.7925|\n",
    "|NN|0.7896|0.7888|0.7882|\n",
    "\n",
    "可以看出Logistic與SVM的表現幾乎相同，NN稍微差一點點，推測可能是層數太少，若再加深或許能增加精度。\n",
    "\n",
    "#### 此次模型是否適用於其他資料集\n",
    "\n",
    "由於這次訓練資料的trend元素走勢是持續上升，若是遇到有升有降的trend時不確定能不能用同樣方法處理，另外時間序列在此是選擇乘法形式，若是遇到加法形式的資料時便需要重新處理，模型本身方面，若是時間序列問題解決，Logistic與SVM理應可以通用，NN則容易因訓練資料不足而無法適用於其他資料。\n",
    "\n",
    "#### 如何改善分類模型\n",
    "\n",
    "Logistic沒有更動太多參數便達到此精度；SVM經實驗後發現不同的kernal function對結果沒有影響太大，因此回歸最簡單的linear；NN對結果影響最大的部份在於loss function，分類問題若使用MSE作為loss function會不容易收斂（loss 容易卡在0.6 ~ 0.7），使用Cross entropy才是較恰當的。"
   ]
  }
 ],
 "metadata": {
  "kernelspec": {
   "display_name": "Python 3",
   "language": "python",
   "name": "python3"
  },
  "language_info": {
   "codemirror_mode": {
    "name": "ipython",
    "version": 3
   },
   "file_extension": ".py",
   "mimetype": "text/x-python",
   "name": "python",
   "nbconvert_exporter": "python",
   "pygments_lexer": "ipython3",
   "version": "3.6.9"
  }
 },
 "nbformat": 4,
 "nbformat_minor": 2
}
