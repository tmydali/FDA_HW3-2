{
 "cells": [
  {
   "cell_type": "markdown",
   "metadata": {},
   "source": [
    "# HW3-2 - Travel Review Ratings \n",
    "\n",
    "作業檔案：\n",
    "- hw3-2.ipynb\n",
    "\n",
    "資料：\n",
    "https://archive.ics.uci.edu/ml/datasets/Tarvel+Review+Ratings\n",
    "\n",
    "- google_review_ratings.csv\n",
    "\n",
    "參考網站：有\n",
    "- https://www.kaggle.com/ishbhms/travel-rating-reviews-analysis"
   ]
  },
  {
   "cell_type": "markdown",
   "metadata": {},
   "source": [
    "## 環境\n",
    "\n",
    "請填寫當前執行使用的環境。\n",
    "\n",
    "|環境|名稱|版本|\n",
    "|-|-|-|\n",
    "|作業系統|Ubuntu|18.04 LTS|\n",
    "|程式執行環境|jupyter notebook|1.0.0|\n",
    "|python 版本|python3|3.6.9|\n",
    "|安裝環境|pip|20.1|"
   ]
  },
  {
   "cell_type": "markdown",
   "metadata": {},
   "source": [
    "## 安裝\n",
    "\n",
    "請填寫安裝套件需要的指令\n",
    "\n",
    "```sh\n",
    "pip install -r requirements.txt\n",
    "```"
   ]
  },
  {
   "cell_type": "markdown",
   "metadata": {},
   "source": [
    "## 計算資源\n",
    "\n",
    "請填寫執行程式所需要的計算資源，請確保所有資源限制在單一個人桌上型電腦且能夠以總市價低於 5 萬的手段取得。\n",
    "\n",
    "|計算資源|答案|\n",
    "|-|-|\n",
    "|使用 CPU 核心數|6|\n",
    "|記憶體需求|$\\leq 4$GB|\n",
    "|有無使用 GPU|無|\n",
    "|GPU 版本|無|\n",
    "|GPU 記憶體需求|$\\leq 1$GB|"
   ]
  },
  {
   "cell_type": "markdown",
   "metadata": {},
   "source": [
    "## 觀察資料型態與分佈\n",
    "\n",
    "首先快速檢視資料的特徵，共有25個欄位：\n",
    "\n",
    "- User\n",
    "- Category 1 ~ 24\n",
    "\n",
    "User欄位即為每筆資料的id，Category 1 ~ 24為該使用者對各個種類景點的評分，數值範圍1 ~ 5，0則代表未評分。"
   ]
  },
  {
   "cell_type": "code",
   "execution_count": 1,
   "metadata": {},
   "outputs": [
    {
     "name": "stdout",
     "output_type": "stream",
     "text": [
      "<class 'pandas.core.frame.DataFrame'>\n",
      "RangeIndex: 5456 entries, 0 to 5455\n",
      "Data columns (total 26 columns):\n",
      " #   Column       Non-Null Count  Dtype  \n",
      "---  ------       --------------  -----  \n",
      " 0   User         5456 non-null   object \n",
      " 1   Category 1   5456 non-null   float64\n",
      " 2   Category 2   5456 non-null   float64\n",
      " 3   Category 3   5456 non-null   float64\n",
      " 4   Category 4   5456 non-null   float64\n",
      " 5   Category 5   5456 non-null   float64\n",
      " 6   Category 6   5456 non-null   float64\n",
      " 7   Category 7   5456 non-null   float64\n",
      " 8   Category 8   5456 non-null   float64\n",
      " 9   Category 9   5456 non-null   float64\n",
      " 10  Category 10  5456 non-null   float64\n",
      " 11  Category 11  5456 non-null   object \n",
      " 12  Category 12  5455 non-null   float64\n",
      " 13  Category 13  5456 non-null   float64\n",
      " 14  Category 14  5456 non-null   float64\n",
      " 15  Category 15  5456 non-null   float64\n",
      " 16  Category 16  5456 non-null   float64\n",
      " 17  Category 17  5456 non-null   float64\n",
      " 18  Category 18  5456 non-null   float64\n",
      " 19  Category 19  5456 non-null   float64\n",
      " 20  Category 20  5456 non-null   float64\n",
      " 21  Category 21  5456 non-null   float64\n",
      " 22  Category 22  5456 non-null   float64\n",
      " 23  Category 23  5456 non-null   float64\n",
      " 24  Category 24  5455 non-null   float64\n",
      " 25  Unnamed: 25  2 non-null      float64\n",
      "dtypes: float64(24), object(2)\n",
      "memory usage: 1.1+ MB\n",
      "None\n"
     ]
    }
   ],
   "source": [
    "# Read data\n",
    "\n",
    "import pandas as pd\n",
    "import numpy as np\n",
    "import matplotlib.pyplot as plt\n",
    "import seaborn as sns\n",
    "\n",
    "data_path = './google_review_ratings.csv'\n",
    "\n",
    "df = pd.read_csv(data_path)\n",
    "\n",
    "print(df.info())"
   ]
  },
  {
   "cell_type": "markdown",
   "metadata": {},
   "source": [
    "發現存在奇怪的欄位(第25欄)，以及Category 11資料型態跟其他人不同，檢查後發現似乎是有資料填壞的情形，因為填壞的資料僅2筆，故決定直接刪除。另外為了方便辨認，將原本的Category 1 ~ 24重新命名成它原本的名字。"
   ]
  },
  {
   "cell_type": "code",
   "execution_count": 2,
   "metadata": {},
   "outputs": [
    {
     "name": "stdout",
     "output_type": "stream",
     "text": [
      "<class 'pandas.core.frame.DataFrame'>\n",
      "Int64Index: 5454 entries, 0 to 5455\n",
      "Data columns (total 25 columns):\n",
      " #   Column                 Non-Null Count  Dtype  \n",
      "---  ------                 --------------  -----  \n",
      " 0   user                   5454 non-null   object \n",
      " 1   churches               5454 non-null   float64\n",
      " 2   resorts                5454 non-null   float64\n",
      " 3   beaches                5454 non-null   float64\n",
      " 4   parks                  5454 non-null   float64\n",
      " 5   theatres               5454 non-null   float64\n",
      " 6   museums                5454 non-null   float64\n",
      " 7   malls                  5454 non-null   float64\n",
      " 8   zoo                    5454 non-null   float64\n",
      " 9   restaurants            5454 non-null   float64\n",
      " 10  pubs_bars              5454 non-null   float64\n",
      " 11  local_services         5454 non-null   float64\n",
      " 12  burger_pizza_shops     5454 non-null   float64\n",
      " 13  hotels_other_lodgings  5454 non-null   float64\n",
      " 14  juice_bars             5454 non-null   float64\n",
      " 15  art_galleries          5454 non-null   float64\n",
      " 16  dance_clubs            5454 non-null   float64\n",
      " 17  swimming_pools         5454 non-null   float64\n",
      " 18  gyms                   5454 non-null   float64\n",
      " 19  bakeries               5454 non-null   float64\n",
      " 20  beauty_spas            5454 non-null   float64\n",
      " 21  cafes                  5454 non-null   float64\n",
      " 22  view_points            5454 non-null   float64\n",
      " 23  monuments              5454 non-null   float64\n",
      " 24  gardens                5454 non-null   float64\n",
      "dtypes: float64(24), object(1)\n",
      "memory usage: 1.1+ MB\n",
      "None\n"
     ]
    }
   ],
   "source": [
    "df = df[df.iloc[:, 25].isna() == True]\n",
    "df = df.drop(df.columns[25], axis=1)\n",
    "df['Category 11'] = pd.to_numeric(df['Category 11'])\n",
    "column_names = ['user', 'churches', 'resorts', 'beaches', 'parks', 'theatres', 'museums', 'malls', 'zoo', 'restaurants', 'pubs_bars', 'local_services', 'burger_pizza_shops', 'hotels_other_lodgings', 'juice_bars', 'art_galleries', 'dance_clubs', 'swimming_pools', 'gyms', 'bakeries', 'beauty_spas', 'cafes', 'view_points', 'monuments', 'gardens']\n",
    "df.columns = column_names\n",
    "print(df.info())"
   ]
  },
  {
   "cell_type": "markdown",
   "metadata": {},
   "source": [
    "看看有哪些欄位是使用者不太會給評分的，結果發現麵包店、健身房、美容spa的評分數量是倒數前三名。"
   ]
  },
  {
   "cell_type": "code",
   "execution_count": 3,
   "metadata": {},
   "outputs": [
    {
     "data": {
      "text/plain": [
       "Text(0.5, 1.0, 'Number of reviews under each category')"
      ]
     },
     "execution_count": 3,
     "metadata": {},
     "output_type": "execute_result"
    },
    {
     "data": {
      "image/png": "[encoded data removed]",
      "text/plain": [
       "<Figure size 864x504 with 1 Axes>"
      ]
     },
     "metadata": {
      "needs_background": "light"
     },
     "output_type": "display_data"
    }
   ],
   "source": [
    "num_zeros = df[column_names[1:]].astype(bool).sum(axis=0).sort_values()\n",
    "\n",
    "plt.figure(figsize=(12,7))\n",
    "plt.barh(np.arange(len(column_names[1:])), num_zeros.values, align='center', alpha=0.7)\n",
    "plt.yticks(np.arange(len(column_names[1:])), num_zeros.index)\n",
    "plt.xlabel('Number of reviews')\n",
    "plt.title('Number of reviews under each category')"
   ]
  },
  {
   "cell_type": "markdown",
   "metadata": {},
   "source": [
    "再來看看各欄位的平均評分，結果發現商場、餐廳、戲院為最高前三名；健身房、游泳池、咖啡館為倒數前三名。"
   ]
  },
  {
   "cell_type": "code",
   "execution_count": 4,
   "metadata": {},
   "outputs": [
    {
     "data": {
      "text/plain": [
       "Text(0.5, 1.0, 'Average rating per Category')"
      ]
     },
     "execution_count": 4,
     "metadata": {},
     "output_type": "execute_result"
    },
    {
     "data": {
      "image/png": "[encoded data removed]",
      "text/plain": [
       "<Figure size 864x504 with 1 Axes>"
      ]
     },
     "metadata": {
      "needs_background": "light"
     },
     "output_type": "display_data"
    }
   ],
   "source": [
    "avg_rating = df[column_names[1:]].mean()\n",
    "avg_rating = avg_rating.sort_values()\n",
    "plt.figure(figsize=(12,7))\n",
    "plt.barh(np.arange(len(column_names[1:])), avg_rating.values, align='center', alpha=0.7)\n",
    "plt.yticks(np.arange(len(column_names[1:])), avg_rating.index)\n",
    "plt.xlabel('Average Rating')\n",
    "plt.title('Average rating per Category')"
   ]
  },
  {
   "cell_type": "markdown",
   "metadata": {},
   "source": [
    "檢視各欄位間的相關性，各欄資料間的相關性不算高，但仍可以發現鄰近類別（如商場與餐廳）的相關性高，以及教堂與庭園的相關性也偏高。"
   ]
  },
  {
   "cell_type": "code",
   "execution_count": 5,
   "metadata": {},
   "outputs": [
    {
     "data": {
      "text/plain": [
       "<matplotlib.axes._subplots.AxesSubplot at 0x7f44b42b9710>"
      ]
     },
     "execution_count": 5,
     "metadata": {},
     "output_type": "execute_result"
    },
    {
     "data": {
      "image/png": "[encoded data removed]",
      "text/plain": [
       "<Figure size 432x288 with 2 Axes>"
      ]
     },
     "metadata": {
      "needs_background": "light"
     },
     "output_type": "display_data"
    }
   ],
   "source": [
    "sns.heatmap(df[1:].corr())"
   ]
  },
  {
   "cell_type": "markdown",
   "metadata": {},
   "source": [
    "## 問題設定\n",
    "\n",
    "這裡設定的問題是，能否利用使用者對其他類別的評價，來預測他在另外某些類別中最喜歡哪個？具體來說，這裡希望利用其他的21個類別來預測該使用者在商場、餐廳、戲院這三樣中最喜歡哪個，會選這三樣的原因在於它們是所有樣本中平均評分最高的三個類別，並且所有使用者都有對這三樣做評分，因此不需要考慮訓練標籤不存在的問題。"
   ]
  },
  {
   "cell_type": "markdown",
   "metadata": {},
   "source": [
    "## 資料前處理\n",
    "### 製作訓練標籤\n",
    "\n",
    "將該使用者於商場、餐廳、戲院中評價最高的那一個類別紀錄於新欄位，當有兩個類別同分時，則會按照所有人的平均分數最高的來依序選定，也就是同分時依照商場 > 餐廳 > 戲院的順序來選定。"
   ]
  },
  {
   "cell_type": "code",
   "execution_count": 6,
   "metadata": {},
   "outputs": [
    {
     "name": "stdout",
     "output_type": "stream",
     "text": [
      "0    malls\n",
      "1    malls\n",
      "2    malls\n",
      "3    malls\n",
      "4    malls\n",
      "dtype: object\n"
     ]
    }
   ],
   "source": [
    "x_df = df.drop(['user', 'malls', 'restaurants', 'theatres'], axis=1)\n",
    "y_df = df[['malls', 'restaurants', 'theatres']]\n",
    "\n",
    "y_df = y_df.idxmax(axis=1)\n",
    "\n",
    "print(y_df.head())"
   ]
  },
  {
   "cell_type": "markdown",
   "metadata": {},
   "source": [
    "### 資料正規化\n",
    "\n",
    "將資料範圍線性轉換到[0,1]。"
   ]
  },
  {
   "cell_type": "code",
   "execution_count": 7,
   "metadata": {},
   "outputs": [
    {
     "data": {
      "text/html": [
       "<div>\n",
       "<style scoped>\n",
       "    .dataframe tbody tr th:only-of-type {\n",
       "        vertical-align: middle;\n",
       "    }\n",
       "\n",
       "    .dataframe tbody tr th {\n",
       "        vertical-align: top;\n",
       "    }\n",
       "\n",
       "    .dataframe thead th {\n",
       "        text-align: right;\n",
       "    }\n",
       "</style>\n",
       "<table border=\"1\" class=\"dataframe\">\n",
       "  <thead>\n",
       "    <tr style=\"text-align: right;\">\n",
       "      <th></th>\n",
       "      <th>churches</th>\n",
       "      <th>resorts</th>\n",
       "      <th>beaches</th>\n",
       "      <th>parks</th>\n",
       "      <th>museums</th>\n",
       "      <th>zoo</th>\n",
       "      <th>pubs_bars</th>\n",
       "      <th>local_services</th>\n",
       "      <th>burger_pizza_shops</th>\n",
       "      <th>hotels_other_lodgings</th>\n",
       "      <th>...</th>\n",
       "      <th>art_galleries</th>\n",
       "      <th>dance_clubs</th>\n",
       "      <th>swimming_pools</th>\n",
       "      <th>gyms</th>\n",
       "      <th>bakeries</th>\n",
       "      <th>beauty_spas</th>\n",
       "      <th>cafes</th>\n",
       "      <th>view_points</th>\n",
       "      <th>monuments</th>\n",
       "      <th>gardens</th>\n",
       "    </tr>\n",
       "  </thead>\n",
       "  <tbody>\n",
       "    <tr>\n",
       "      <th>0</th>\n",
       "      <td>0.0</td>\n",
       "      <td>0.0</td>\n",
       "      <td>0.726</td>\n",
       "      <td>0.676259</td>\n",
       "      <td>0.465296</td>\n",
       "      <td>0.359903</td>\n",
       "      <td>0.436754</td>\n",
       "      <td>0.218009</td>\n",
       "      <td>0.21564</td>\n",
       "      <td>0.219858</td>\n",
       "      <td>...</td>\n",
       "      <td>0.348</td>\n",
       "      <td>0.118</td>\n",
       "      <td>0.1</td>\n",
       "      <td>0.0</td>\n",
       "      <td>0.1</td>\n",
       "      <td>0.0</td>\n",
       "      <td>0.0</td>\n",
       "      <td>0.0</td>\n",
       "      <td>0.0</td>\n",
       "      <td>0.0</td>\n",
       "    </tr>\n",
       "    <tr>\n",
       "      <th>1</th>\n",
       "      <td>0.0</td>\n",
       "      <td>0.0</td>\n",
       "      <td>0.726</td>\n",
       "      <td>0.676259</td>\n",
       "      <td>0.465296</td>\n",
       "      <td>0.429952</td>\n",
       "      <td>0.439141</td>\n",
       "      <td>0.218009</td>\n",
       "      <td>0.21564</td>\n",
       "      <td>0.219858</td>\n",
       "      <td>...</td>\n",
       "      <td>0.348</td>\n",
       "      <td>0.118</td>\n",
       "      <td>0.1</td>\n",
       "      <td>0.0</td>\n",
       "      <td>0.1</td>\n",
       "      <td>0.0</td>\n",
       "      <td>0.0</td>\n",
       "      <td>0.0</td>\n",
       "      <td>0.0</td>\n",
       "      <td>0.0</td>\n",
       "    </tr>\n",
       "    <tr>\n",
       "      <th>2</th>\n",
       "      <td>0.0</td>\n",
       "      <td>0.0</td>\n",
       "      <td>0.726</td>\n",
       "      <td>0.671463</td>\n",
       "      <td>0.465296</td>\n",
       "      <td>0.429952</td>\n",
       "      <td>0.436754</td>\n",
       "      <td>0.218009</td>\n",
       "      <td>0.21564</td>\n",
       "      <td>0.219858</td>\n",
       "      <td>...</td>\n",
       "      <td>0.348</td>\n",
       "      <td>0.118</td>\n",
       "      <td>0.1</td>\n",
       "      <td>0.0</td>\n",
       "      <td>0.1</td>\n",
       "      <td>0.0</td>\n",
       "      <td>0.0</td>\n",
       "      <td>0.0</td>\n",
       "      <td>0.0</td>\n",
       "      <td>0.0</td>\n",
       "    </tr>\n",
       "    <tr>\n",
       "      <th>3</th>\n",
       "      <td>0.0</td>\n",
       "      <td>0.1</td>\n",
       "      <td>0.726</td>\n",
       "      <td>0.671463</td>\n",
       "      <td>0.465296</td>\n",
       "      <td>0.359903</td>\n",
       "      <td>0.436754</td>\n",
       "      <td>0.225118</td>\n",
       "      <td>0.21564</td>\n",
       "      <td>0.219858</td>\n",
       "      <td>...</td>\n",
       "      <td>0.348</td>\n",
       "      <td>0.118</td>\n",
       "      <td>0.1</td>\n",
       "      <td>0.0</td>\n",
       "      <td>0.1</td>\n",
       "      <td>0.0</td>\n",
       "      <td>0.0</td>\n",
       "      <td>0.0</td>\n",
       "      <td>0.0</td>\n",
       "      <td>0.0</td>\n",
       "    </tr>\n",
       "    <tr>\n",
       "      <th>4</th>\n",
       "      <td>0.0</td>\n",
       "      <td>0.0</td>\n",
       "      <td>0.726</td>\n",
       "      <td>0.671463</td>\n",
       "      <td>0.465296</td>\n",
       "      <td>0.429952</td>\n",
       "      <td>0.436754</td>\n",
       "      <td>0.218009</td>\n",
       "      <td>0.21564</td>\n",
       "      <td>0.219858</td>\n",
       "      <td>...</td>\n",
       "      <td>0.348</td>\n",
       "      <td>0.118</td>\n",
       "      <td>0.1</td>\n",
       "      <td>0.0</td>\n",
       "      <td>0.1</td>\n",
       "      <td>0.0</td>\n",
       "      <td>0.0</td>\n",
       "      <td>0.0</td>\n",
       "      <td>0.0</td>\n",
       "      <td>0.0</td>\n",
       "    </tr>\n",
       "  </tbody>\n",
       "</table>\n",
       "<p>5 rows × 21 columns</p>\n",
       "</div>"
      ],
      "text/plain": [
       "   churches  resorts  beaches     parks   museums       zoo  pubs_bars  \\\n",
       "0       0.0      0.0    0.726  0.676259  0.465296  0.359903   0.436754   \n",
       "1       0.0      0.0    0.726  0.676259  0.465296  0.429952   0.439141   \n",
       "2       0.0      0.0    0.726  0.671463  0.465296  0.429952   0.436754   \n",
       "3       0.0      0.1    0.726  0.671463  0.465296  0.359903   0.436754   \n",
       "4       0.0      0.0    0.726  0.671463  0.465296  0.429952   0.436754   \n",
       "\n",
       "   local_services  burger_pizza_shops  hotels_other_lodgings  ...  \\\n",
       "0        0.218009             0.21564               0.219858  ...   \n",
       "1        0.218009             0.21564               0.219858  ...   \n",
       "2        0.218009             0.21564               0.219858  ...   \n",
       "3        0.225118             0.21564               0.219858  ...   \n",
       "4        0.218009             0.21564               0.219858  ...   \n",
       "\n",
       "   art_galleries  dance_clubs  swimming_pools  gyms  bakeries  beauty_spas  \\\n",
       "0          0.348        0.118             0.1   0.0       0.1          0.0   \n",
       "1          0.348        0.118             0.1   0.0       0.1          0.0   \n",
       "2          0.348        0.118             0.1   0.0       0.1          0.0   \n",
       "3          0.348        0.118             0.1   0.0       0.1          0.0   \n",
       "4          0.348        0.118             0.1   0.0       0.1          0.0   \n",
       "\n",
       "   cafes  view_points  monuments  gardens  \n",
       "0    0.0          0.0        0.0      0.0  \n",
       "1    0.0          0.0        0.0      0.0  \n",
       "2    0.0          0.0        0.0      0.0  \n",
       "3    0.0          0.0        0.0      0.0  \n",
       "4    0.0          0.0        0.0      0.0  \n",
       "\n",
       "[5 rows x 21 columns]"
      ]
     },
     "execution_count": 7,
     "metadata": {},
     "output_type": "execute_result"
    }
   ],
   "source": [
    "# Regularize data\n",
    "\n",
    "from sklearn.preprocessing import MinMaxScaler\n",
    "\n",
    "scaler = MinMaxScaler()\n",
    "scaler.fit(x_df)\n",
    "\n",
    "scaled_x_df = scaler.transform(x_df)\n",
    "\n",
    "scaled_x_df = pd.DataFrame(scaled_x_df)\n",
    "scaled_x_df.columns = ['churches', 'resorts', 'beaches', 'parks', 'museums', 'zoo', 'pubs_bars', 'local_services', 'burger_pizza_shops', 'hotels_other_lodgings', 'juice_bars', 'art_galleries', 'dance_clubs', 'swimming_pools', 'gyms', 'bakeries', 'beauty_spas', 'cafes', 'view_points', 'monuments', 'gardens']\n",
    "\n",
    "scaled_x_df.head()"
   ]
  },
  {
   "cell_type": "markdown",
   "metadata": {},
   "source": [
    "將所有資料的25％作為測試資料，剩餘75％作為訓練資料。"
   ]
  },
  {
   "cell_type": "code",
   "execution_count": 8,
   "metadata": {},
   "outputs": [
    {
     "name": "stdout",
     "output_type": "stream",
     "text": [
      "---- Training Data ----\n",
      "(4090, 21)\n",
      "2479    restaurants\n",
      "513        theatres\n",
      "3572          malls\n",
      "210     restaurants\n",
      "4050       theatres\n",
      "dtype: object\n",
      "\n",
      "---- Testing Data ----\n",
      "(1364, 21)\n",
      "2185          malls\n",
      "763     restaurants\n",
      "1829       theatres\n",
      "1611          malls\n",
      "1812       theatres\n",
      "dtype: object\n"
     ]
    }
   ],
   "source": [
    "from sklearn.model_selection import train_test_split\n",
    "train_x, test_x, train_y, test_y = train_test_split(scaled_x_df, y_df, test_size=0.25, random_state=109)\n",
    "\n",
    "print('---- Training Data ----')\n",
    "print(train_x.shape)\n",
    "print(train_y.head())\n",
    "print('\\n---- Testing Data ----')\n",
    "print(test_x.shape)\n",
    "print(test_y.head())"
   ]
  },
  {
   "cell_type": "markdown",
   "metadata": {},
   "source": [
    "## 資料訓練與測試\n",
    "### KNN\n",
    "\n",
    "利用KNN來做分類，在k=5的情況下，訓練精度達0.849，測試精度達0.781，在尚未調整任何參數的情況下算是不錯的開始，但有點overfitting。"
   ]
  },
  {
   "cell_type": "code",
   "execution_count": 9,
   "metadata": {},
   "outputs": [
    {
     "name": "stdout",
     "output_type": "stream",
     "text": [
      "training accuracy: 0.8488997555012225\n",
      "testing accuracy: 0.780791788856305\n",
      "\n",
      "predicted testing labels:\n",
      "['malls' 'restaurants' 'restaurants' ... 'malls' 'theatres' 'restaurants']\n"
     ]
    }
   ],
   "source": [
    "from sklearn.neighbors import KNeighborsClassifier\n",
    "\n",
    "neigh = KNeighborsClassifier()\n",
    "neigh.fit(train_x, train_y)\n",
    "\n",
    "knn_training_acc = neigh.score(train_x, train_y)\n",
    "print('training accuracy: {}'.format(knn_training_acc))\n",
    "\n",
    "knn_predict_test_result = neigh.predict(test_x)\n",
    "knn_testing_acc = neigh.score(test_x, test_y)\n",
    "print('testing accuracy: {}'.format(knn_testing_acc))\n",
    "\n",
    "print('\\npredicted testing labels:')\n",
    "print(knn_predict_test_result)"
   ]
  },
  {
   "cell_type": "markdown",
   "metadata": {},
   "source": [
    "### SVM\n",
    "\n",
    "利用SVM來做分類器，訓練精度達0.803，測試精度達0.782，在尚未調整任何參數的情況下比knn好一些，且沒有overfitting。"
   ]
  },
  {
   "cell_type": "code",
   "execution_count": 10,
   "metadata": {},
   "outputs": [
    {
     "name": "stdout",
     "output_type": "stream",
     "text": [
      "training accuracy: 0.8031784841075794\n",
      "testing accuracy: 0.781524926686217\n",
      "\n",
      "predicted testing labels:\n",
      "['malls' 'restaurants' 'restaurants' ... 'malls' 'theatres' 'restaurants']\n"
     ]
    }
   ],
   "source": [
    "from sklearn.svm import SVC\n",
    "\n",
    "svc_model = SVC()\n",
    "svc_model.fit(train_x, train_y)\n",
    "\n",
    "svc_training_acc = svc_model.score(train_x, train_y)\n",
    "print('training accuracy: {}'.format(svc_training_acc))\n",
    "\n",
    "svc_predict_test_result = svc_model.predict(test_x)\n",
    "svc_testing_acc = svc_model.score(test_x, test_y)\n",
    "print('testing accuracy: {}'.format(svc_testing_acc))\n",
    "\n",
    "print('\\npredicted testing labels:')\n",
    "print(knn_predict_test_result)"
   ]
  },
  {
   "cell_type": "markdown",
   "metadata": {},
   "source": [
    "### 小結\n",
    "\n",
    "初步使用沒有調過任參數的兩種分類器，測試精度都在約0.78，算是不錯，接下來將調整細部參數來提昇各自的精度。"
   ]
  },
  {
   "cell_type": "markdown",
   "metadata": {},
   "source": [
    "## 模型精度提昇\n",
    "### KNN\n",
    "\n",
    "首先選擇距離的定義，也就是決定使用曼哈頓距離或歐式距離，根據\n",
    "\n",
    "https://stats.stackexchange.com/questions/99171/why-is-euclidean-distance-not-a-good-metric-in-high-dimensions/99191#99191\n",
    "\n",
    "這篇文章，在特徵維度較高時使用曼哈頓距離會比較好，實際測試結果也是如此。"
   ]
  },
  {
   "cell_type": "code",
   "execution_count": 11,
   "metadata": {},
   "outputs": [
    {
     "name": "stdout",
     "output_type": "stream",
     "text": [
      "---- Manhattan distance ----\n",
      "training accuracy: 0.8731051344743276\n",
      "testing accuracy: 0.8137829912023461\n",
      "\n",
      "---- Euclidean distance ----\n",
      "training accuracy: 0.8488997555012225\n",
      "testing accuracy: 0.780791788856305\n"
     ]
    }
   ],
   "source": [
    "neigh = KNeighborsClassifier(p=1)\n",
    "neigh.fit(train_x, train_y)\n",
    "knn_training_acc = neigh.score(train_x, train_y)\n",
    "knn_predict_test_result = neigh.predict(test_x)\n",
    "knn_testing_acc = neigh.score(test_x, test_y)\n",
    "print('---- Manhattan distance ----')\n",
    "print('training accuracy: {}'.format(knn_training_acc))\n",
    "print('testing accuracy: {}'.format(knn_testing_acc))\n",
    "\n",
    "neigh = KNeighborsClassifier(p=2)\n",
    "neigh.fit(train_x, train_y)\n",
    "knn_training_acc = neigh.score(train_x, train_y)\n",
    "knn_predict_test_result = neigh.predict(test_x)\n",
    "knn_testing_acc = neigh.score(test_x, test_y)\n",
    "print('\\n---- Euclidean distance ----')\n",
    "print('training accuracy: {}'.format(knn_training_acc))\n",
    "print('testing accuracy: {}'.format(knn_testing_acc))"
   ]
  },
  {
   "cell_type": "markdown",
   "metadata": {},
   "source": [
    "接著選擇最佳的k，經過由k = 2 ~ 30的逐一測試後，發現測試精度在k=3時達到最高，約0.7837。"
   ]
  },
  {
   "cell_type": "code",
   "execution_count": 12,
   "metadata": {},
   "outputs": [],
   "source": [
    "k = 30\n",
    "\n",
    "knn_training_acc = []\n",
    "knn_testing_acc = []\n",
    "for i in range(2, k):\n",
    "    neigh = KNeighborsClassifier(n_neighbors=i, p=1)\n",
    "    neigh.fit(train_x, train_y)\n",
    "    knn_training_acc.append(neigh.score(train_x, train_y))\n",
    "    knn_predict_test_result = neigh.predict(test_x)\n",
    "    knn_testing_acc.append(neigh.score(test_x, test_y))\n"
   ]
  },
  {
   "cell_type": "code",
   "execution_count": 13,
   "metadata": {},
   "outputs": [
    {
     "name": "stdout",
     "output_type": "stream",
     "text": [
      "Reaches highest testing accuracy 0.8247800586510264 when k = 3\n"
     ]
    },
    {
     "data": {
      "image/png": "[encoded data removed]",
      "text/plain": [
       "<Figure size 432x288 with 1 Axes>"
      ]
     },
     "metadata": {
      "needs_background": "light"
     },
     "output_type": "display_data"
    }
   ],
   "source": [
    "plt.plot(np.transpose([knn_training_acc, knn_testing_acc]))\n",
    "plt.xticks()\n",
    "plt.xlabel('k')\n",
    "plt.ylabel('Accuracy')\n",
    "plt.title('Accuracy with different k')\n",
    "plt.legend(['Traing', 'Testing'])\n",
    "\n",
    "print('Reaches highest testing accuracy {} when k = {}'.format(np.max(knn_testing_acc), np.argmax(knn_testing_acc)+2))"
   ]
  },
  {
   "cell_type": "markdown",
   "metadata": {},
   "source": [
    "總結上述，當k=3並使用曼哈頓距離時，對模型訓練能達到更好的效果，測試精度提昇了約0.044。"
   ]
  },
  {
   "cell_type": "markdown",
   "metadata": {},
   "source": [
    "### SVM\n",
    "\n",
    "首先選擇kernel要使用的方法，直接暴力的把package提供的方法全部試一次，發現使用poly及rbf的效果比linear和sigmoid還要好。"
   ]
  },
  {
   "cell_type": "code",
   "execution_count": 14,
   "metadata": {},
   "outputs": [
    {
     "name": "stdout",
     "output_type": "stream",
     "text": [
      "---- Kernel: linear ----\n",
      "training accuracy: 0.6735941320293398\n",
      "testing accuracy: 0.6730205278592375\n",
      "\n",
      "---- Kernel: poly ----\n",
      "training accuracy: 0.8254278728606357\n",
      "testing accuracy: 0.7778592375366569\n",
      "\n",
      "---- Kernel: rbf ----\n",
      "training accuracy: 0.8031784841075794\n",
      "testing accuracy: 0.781524926686217\n",
      "\n",
      "---- Kernel: sigmoid ----\n",
      "training accuracy: 0.3929095354523227\n",
      "testing accuracy: 0.40249266862170086\n",
      "\n"
     ]
    }
   ],
   "source": [
    "method = ['linear', 'poly', 'rbf', 'sigmoid']\n",
    "\n",
    "for ker in method:\n",
    "    print('---- Kernel: {} ----'.format(ker))\n",
    "    svc_model = SVC(kernel=ker)\n",
    "    svc_model.fit(train_x, train_y)\n",
    "\n",
    "    svc_training_acc = svc_model.score(train_x, train_y)\n",
    "    print('training accuracy: {}'.format(svc_training_acc))\n",
    "\n",
    "    svc_predict_test_result = svc_model.predict(test_x)\n",
    "    svc_testing_acc = svc_model.score(test_x, test_y)\n",
    "    print('testing accuracy: {}\\n'.format(svc_testing_acc))"
   ]
  },
  {
   "cell_type": "markdown",
   "metadata": {},
   "source": [
    "調整poly方法的degree看看會不會比rbf好，因為若degree = 1就幾乎相當linear，因此從2開始測試到9為止。由結果可以明顯發現，訓練資料的精度快速提升，而測試資料則提升不顯著，這是overfitting的現象，最後取測試精度最高的degree = 5回來與rbf比較，發現結果較rbf好，因此kernel就選定用poly。"
   ]
  },
  {
   "cell_type": "code",
   "execution_count": 15,
   "metadata": {},
   "outputs": [],
   "source": [
    "svc_training_acc = []\n",
    "svc_testing_acc = []\n",
    "\n",
    "for deg in range(2, 10):\n",
    "    svc_model = SVC(kernel='poly', degree=deg)\n",
    "    svc_model.fit(train_x, train_y)\n",
    "\n",
    "    svc_training_acc.append(svc_model.score(train_x, train_y))\n",
    "\n",
    "    svc_predict_test_result = svc_model.predict(test_x)\n",
    "    svc_testing_acc.append(svc_model.score(test_x, test_y))"
   ]
  },
  {
   "cell_type": "code",
   "execution_count": 16,
   "metadata": {},
   "outputs": [
    {
     "name": "stdout",
     "output_type": "stream",
     "text": [
      "Reaches highest testing accuracy 0.7851906158357771 when degree = 5\n"
     ]
    },
    {
     "data": {
      "image/png": "[encoded data removed]",
      "text/plain": [
       "<Figure size 432x288 with 1 Axes>"
      ]
     },
     "metadata": {
      "needs_background": "light"
     },
     "output_type": "display_data"
    }
   ],
   "source": [
    "plt.plot(np.transpose([svc_training_acc, svc_testing_acc]))\n",
    "plt.xticks()\n",
    "plt.xlabel('degree')\n",
    "plt.ylabel('Accuracy')\n",
    "plt.title('Accuracy with different polynomial degree')\n",
    "plt.legend(['Traing', 'Testing'])\n",
    "\n",
    "print('Reaches highest testing accuracy {} when degree = {}'.format(np.max(svc_testing_acc), np.argmax(svc_testing_acc)+2))"
   ]
  },
  {
   "cell_type": "markdown",
   "metadata": {},
   "source": [
    "調整參數C，代表hyperplane切下去後與資料間的margin大小，C愈大則margin愈小，反之則margin愈大，這裡取0.1 ~ 2.0的範圍間，每0.1測試一次C，最後發現在C = 1.1時有最好的精度，約0.7881。"
   ]
  },
  {
   "cell_type": "code",
   "execution_count": 17,
   "metadata": {},
   "outputs": [],
   "source": [
    "svc_training_acc = []\n",
    "svc_testing_acc = []\n",
    "c_space = np.arange(0.1, 2.1, 0.1)\n",
    "\n",
    "for C in c_space:\n",
    "    svc_model = SVC(kernel='poly', degree=5, C=C)\n",
    "    svc_model.fit(train_x, train_y)\n",
    "\n",
    "    svc_training_acc.append(svc_model.score(train_x, train_y))\n",
    "\n",
    "    svc_predict_test_result = svc_model.predict(test_x)\n",
    "    svc_testing_acc.append(svc_model.score(test_x, test_y))"
   ]
  },
  {
   "cell_type": "code",
   "execution_count": 18,
   "metadata": {},
   "outputs": [
    {
     "name": "stdout",
     "output_type": "stream",
     "text": [
      "Reaches highest testing accuracy 0.7881231671554252 when C = 1.1\n"
     ]
    },
    {
     "data": {
      "image/png": "[encoded data removed]",
      "text/plain": [
       "<Figure size 432x288 with 1 Axes>"
      ]
     },
     "metadata": {
      "needs_background": "light"
     },
     "output_type": "display_data"
    }
   ],
   "source": [
    "plt.plot(np.transpose(c_space), np.transpose([svc_training_acc, svc_testing_acc]))\n",
    "plt.xticks(np.arange(0.1, 2.1, 0.2))\n",
    "plt.xlabel('C')\n",
    "plt.ylabel('Accuracy')\n",
    "plt.title('Accuracy with different C')\n",
    "plt.legend(['Traing', 'Testing'])\n",
    "\n",
    "print('Reaches highest testing accuracy {} when C = {}'.format(np.max(svc_testing_acc), np.argmax(svc_testing_acc)/10+0.1))"
   ]
  },
  {
   "cell_type": "markdown",
   "metadata": {},
   "source": [
    "總結上述，當kernel使用poly、degree=5，且C=1.1時，對模型訓練能達到稍微更好的效果，但其實與什麼都不調相去不遠，測試精度只提昇了約0.007。"
   ]
  },
  {
   "cell_type": "markdown",
   "metadata": {},
   "source": [
    "# 總結"
   ]
  },
  {
   "cell_type": "markdown",
   "metadata": {},
   "source": [
    "上述2種分類方法的測試結果如下：\n",
    "\n",
    "|分類方法|預設超參數|調整超參數後|提升精度|\n",
    "|:---:|---:|---:|---:|\n",
    "|KNN|0.7808|0.8248|0.0440|\n",
    "|SVM|0.7815|0.7881|0.0066|\n",
    "\n",
    "可以看出KNN與SVM一開始的表現幾乎相同，但在調整超參數後KNN的表現明顯較SVM好，有可能是調整的工夫不到家，也有可能是這筆資料就是比較適合使用KNN。縱使如此，仍然解決了一開始設定的問題，我們可以使用KNN或SVM來預測使用者在商場、餐廳、戲院中最喜歡哪個，使用KNN精度可以達到80％以上，算是可以接受的成果。"
   ]
  }
 ],
 "metadata": {
  "kernelspec": {
   "display_name": "Python 3",
   "language": "python",
   "name": "python3"
  },
  "language_info": {
   "codemirror_mode": {
    "name": "ipython",
    "version": 3
   },
   "file_extension": ".py",
   "mimetype": "text/x-python",
   "name": "python",
   "nbconvert_exporter": "python",
   "pygments_lexer": "ipython3",
   "version": "3.6.9"
  }
 },
 "nbformat": 4,
 "nbformat_minor": 2
}
